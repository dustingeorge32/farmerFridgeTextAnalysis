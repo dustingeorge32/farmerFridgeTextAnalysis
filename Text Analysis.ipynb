{
 "cells": [
  {
   "cell_type": "code",
   "execution_count": 42,
   "id": "a12a6d9f",
   "metadata": {},
   "outputs": [
    {
     "name": "stdout",
     "output_type": "stream",
     "text": [
      "Enter file: \n",
      "Exclude stop words(Y/N): y\n",
      "Consider stem words(Y/N): y\n"
     ]
    }
   ],
   "source": [
    "fname = input('Enter file: ')\n",
    "excludeStopWords = input('Exclude stop words(Y/N): ')\n",
    "extractStemWords = input('Consider stem words(Y/N): ')"
   ]
  },
  {
   "cell_type": "code",
   "execution_count": 74,
   "id": "d1352691",
   "metadata": {},
   "outputs": [
    {
     "name": "stdout",
     "output_type": "stream",
     "text": [
      "{'KMZ': 185, 'HA': 141, 'KH': 124, 'DVQ': 117, 'D': 99, 'AHU': 66, 'EV': 59, 'KMDK': 45, 'EK': 44, 'KMZEU': 39, 'EL': 38, 'JEKM': 35, 'YVEAZ': 34, 'KMEL': 33, 'MDL': 31, 'HFU': 30, 'XZ': 26, 'XR': 25, 'DL': 25, 'MDPZ': 24, '??': 24, 'AUHN': 24, 'HV': 22, 'XSDQZ': 22, 'KMZR': 21, 'MFVKEVW': 21, 'DUZ': 20, 'DK': 20, 'JMEIM': 19, 'EKL': 19, 'MZ': 19, 'KMZLZ': 17, 'AEOZQ': 17, 'JZ': 16, 'DSS': 16, 'NHLK': 16, 'NHUZ': 15, 'DV': 15, 'RHF': 15, 'DSLH': 15, 'KMZN': 14, 'IHNZL': 14, 'HU': 13, 'BFLK': 12, 'XFK': 12, 'MEL': 12, 'JDL': 12, 'LFIM': 11, 'VHK': 11, 'JMESZ': 11, 'NDQZ': 11, 'XZLK': 11, 'EK??L': 11, 'KMDV': 10, 'SDUWZ': 10, 'YVEPZL': 10, 'XSDQZ,': 10, 'HVZ': 9, 'CZHCSZ': 9, 'HFK': 9, 'IFKKEVW': 9, 'ZPZV': 9, 'KMZUZ': 9, 'LKZZS': 9, 'DXHFK': 9, 'LKFQEZL': 9, 'LMHFSQ': 8, 'UEWMK': 8, 'JMZV': 8, 'FL': 8, 'ZPZUR': 8, 'MDVQSZ': 8, 'SDJL': 7, 'DVR': 7, 'WUZDK': 7, 'KENZ': 7, 'AHSQEVW': 7, 'HFKQHHU': 7, 'EA': 7, 'XZZV': 6, 'XSDQZL': 6, 'NDYZ': 6, 'RHF??UZ': 6, 'JZUZ': 6, 'NEWMK': 6, 'SEAZKENZ': 6, 'AZDKFUZL': 6, 'WZK': 6, 'CUZNEFN': 6, 'LHIEDS': 6, 'DNHVW': 5, 'VZJ': 5, 'SHVW': 5, 'LH': 5, 'HKMZU': 5, 'EVKH': 5, 'NDVR': 5, 'AUZZ': 5, 'DWDEVLK': 5, 'HVSR': 5, 'QEAAZUZVK': 5, 'KMZUZ??L': 5, 'SZDLK': 5, 'MFVKZU': 5, 'KHHS': 5, 'LKRSZ': 5, 'SHK': 5, 'SELK': 5, 'LHNZ': 5, 'FC': 5, 'ZDLR': 5, 'DKKZVKEHV': 5, 'YVEPZL,': 5, 'IDV': 5, 'XUDVQ': 5, 'NDKZQ': 5, 'CZUAZIK': 5, 'SZDKMZU': 5, 'SEYZ': 5, 'DUKEISZL': 5, 'VZJL': 5, 'KMZN,': 4, 'JESS': 4, 'DXLHSFKZ': 4, 'HPZU': 4, 'SZK': 4, 'DLLZVK': 4, 'HKMZUL': 4, 'EVQZCZVQZVK': 4, 'FVEKZQ': 4, 'IDUUR': 4, 'NFIM': 4, 'MHJZPZU,': 4, 'AZJ': 4, 'LFCZUX': 4, 'FLEVW': 4, 'RFEKZ': 4, 'LKDEVSZLL': 4, 'KMDK??L': 4, 'LKFUQR': 4, 'IHFSQ': 4, 'JMH': 4, 'LZZ': 4, 'JHHQ': 4, 'LMDUCZVEVW': 4, 'NZQED': 4, 'MDQ': 4, 'CHJZUL': 3, 'MHSQ': 3, 'WHPZUVNZVK,': 3, 'KMZNLZSPZL': 3, 'DXHSELMEVW': 3, 'AHUNL': 3, 'FLFUCDKEHVL,': 3, 'HAA': 3, 'UZCZDKZQ': 3, 'MDPEVW': 3, 'LKDKZL.': 3, 'UZAFLZQ': 3, 'CDLL': 3, 'KMZN.': 3, 'JHFSQ': 3, 'IDSSZQ': 3, 'CZHCSZ.': 3, 'LKDKZ': 3, 'BFLKEIZ': 3, 'DJDR': 3, 'JHUSQ': 3, 'WHHQ': 3, 'YVEAZ.': 3, 'ZPZURQDR': 3, 'DCCSEIDKEHVL,': 3, 'XSDQZ.': 3, 'HPZUDSS': 3, 'LCZIEAEIDSSR': 3, 'KHHSL': 3, 'FLZQ': 3, 'JMZKMZU': 3, 'UZDSSR': 3, 'UZDLHV': 3, 'AEZSQ': 3, 'LKESS': 3, 'YVEPZL.': 3, 'KMEVY': 3, 'YVHJ': 3, 'QZAEVEKZSR': 3, 'NDYEVW': 3, 'ADIK,': 3, 'VRSHV': 3, 'MDVQSZ.': 3, 'XFESK': 3, 'EVISFQZQ': 3, 'IZUKDEVSR': 3, '1095': 3, 'WSDLL-XUZDYZU': 3, 'LMZDKM,': 3, 'MZUZ': 3, 'MDVQSZ,': 3, 'XZDFKEAFS': 3, 'XZKKZU': 3, 'JDUUDVKR,': 3, 'KUR': 3, 'LMZDKM.': 3, 'NHFVKDEV': 3, 'VEIMZ': 3, 'KHC': 3, '100': 3, 'MHJ': 3, 'CDCZUL': 3, 'CHCFSDU': 3, 'JUEKKZV': 3, 'YHVYEZS': 3, 'LDRL.': 3, 'LKFQR': 3, 'DNZUEID': 3, 'XZIHNZL': 2, 'VZIZLLDUR': 2, 'CHSEKEIDS': 2, 'NDVYEVQ': 2, 'UEWMKL,': 2, 'MDCCEVZLL.': 2, 'WHPZUVNZVKL': 2, 'IHVLZVK': 2, 'AHUN': 2, 'WHPZUVNZVK': 2, 'DSKZU': 2, 'SEYZSR': 2, 'LDNZ': 2, 'HXBZIK': 2, 'LRLKZNL': 2, 'MELKHUR': 2, 'CFXSEI': 2, 'FVSZLL': 2, 'KHWZKMZU': 2, 'SZWELSDKEPZ': 2, 'XHQEZL': 2, 'CFUCHLZ': 2, 'KENZ,': 2, 'DAKZU': 2, 'ZVQZDPHFUZQ': 2, 'UZAFLEVW': 2, 'ZLKDXSELMEVW': 2, 'HAAEIZL,': 2, 'LFXLKDVIZ.': 2, 'FL,': 2, 'CZDIZ,': 2, 'DUNEZL': 2, 'JEKMHFK': 2, 'UZVQZU': 2, 'BFUELQEIKEHV': 2, 'AHUZEWV': 2, 'DIKL': 2, 'CUZKZVQZQ': 2, 'KUEDS': 2, 'EVMDXEKDVKL': 2, 'CDUKL': 2, 'KUDVLCHUKEVW': 2, 'LZDL': 2, 'UFSZ': 2, 'IHSHVEZL': 2, 'QZISDUEVW': 2, 'CHJZU': 2, 'CUHKZIKEHV': 2, 'FL.': 2, 'IEUIFNLKDVIZL': 2, 'DWZL,': 2, 'KHKDSSR': 2, 'MEWM': 2, 'JMHLZ': 2, 'YVHJV': 2, 'NDR': 2, 'XUEKELM': 2, 'KMZUZAHUZ,': 2, 'UZLK': 2, 'JDU,': 2, 'LKDKZL': 2, 'HFWMK': 2, 'LKDKZL,': 2, 'XZKJZZV': 2, 'QH.': 2, 'AEUN': 2, 'ZDIM': 2, 'UZRFEUZ': 2, 'WZDU,': 2, 'DSHVW': 2, 'ZOIZSSZVK': 2, 'HFKQHHUL.': 2, 'DPDESDXSZ': 2, 'RFDSEKR': 2, 'JZ??PZ': 2, 'QZLEWVZQ': 2, 'DCCSEIDKEHVL': 2, 'IDLZ': 2, 'RFEIY': 2, 'SHHYEVW': 2, 'LHSEQ': 2, 'DSS,': 2, 'NHPEVW': 2, 'NZDVL': 2, 'CHEVK': 2, 'IHVLKUFIKEHV': 2, 'IHNCDUZQ': 2, 'IHNCDVEHV': 2, 'QHV??K': 2, 'SHJ': 2, 'AHHS': 2, 'RHF,': 2, 'PDSFZ': 2, 'IHLK.': 2, 'ZUWHVHNEI': 2, 'UFXXZUEGZQ': 2, 'LDVQPEY': 2, 'DIUHLL': 2, 'LNDSS': 2, 'WDNZ,': 2, 'CDUK': 2, 'YVEAZ??L': 2, 'KMUHFWM': 2, 'VH': 2, 'RHFU': 2, 'YZULMDJ': 2, 'SHVZUHIY': 2, 'ZQI': 2, 'YVEAZ,': 2, '8IU13NHP': 2, 'CUZKKR': 2, 'WFK': 2, 'MHHY': 2, 'LENCSZ': 2, 'LMZDKM': 2, 'IUYK': 2, 'MFVK??V': 2, 'AELIM': 2, 'LZZNL': 2, 'DWUZZ': 2, 'NZDLFUEVW': 2, 'EVIMZL': 2, 'KHKDS,': 2, 'IHNCDIK': 2, 'QUZLLEVW': 2, 'ADIK': 2, 'QUHC-CHEVK': 2, 'ZRFECCZQ': 2, 'DIIZLL': 2, 'LFUPEPDS': 2, 'YD-XDU': 2, 'XZIYZU': 2, 'XY2': 2, 'AEWMKEVW': 2, 'XEK': 2, 'AFSS-KDVW': 2, 'WHK': 2, 'UZSEDXSZ': 2, 'EVISFQZL': 2, 'KEC': 2, 'FLD.': 2, 'LCZDY': 2, 'UDK': 2, 'ELV??K': 2, 'KMZEUL': 2, 'VDNZQ': 2, 'XSDIY-AEVELMZQ': 2, 'IDUXHV': 2, 'NEIDUKD': 2, 'ADEUSR': 2, 'MFVKZUL': 2, 'CUEIZ,': 2, 'AHSYZYVEPZV': 2, 'KMZR??PZ': 2, 'QHEVW': 2, 'JZSS': 2, 'CHEVK.': 2, 'ZOCZIK': 2, 'DIKFDSSR': 2, 'KHHSL.': 2, 'WHUWZHFL': 2, 'XZSK': 2, 'XDIYCDIY': 2, 'WDKHU': 2, 'ZOIZZQEVWSR': 2, 'ENCUZLLEPZ': 2, 'QEAAEIFSK': 2, 'LEVWSZ': 2, 'LKDVQ': 2, 'IUHJQ.': 2, 'NDKZUEDSL,': 2, 'VDNZ': 2, 'DSSEWDKHU': 2, 'SHHYL': 2, 'EK.': 2, 'VDKFUDS': 2, 'ISEC-CHEVK': 2, 'L30P': 2, 'XFAADSH': 2, 'MHUV': 2, 'WDNZ': 2, 'NDBHU': 2, 'CZUAZIKSR': 2, 'XUDVQ??L': 2, 'RFDSEKR,': 2, 'VZPZU': 2, 'XFIY': 2, '119': 2, 'RHF??Q': 2, 'QEQV??K': 2, 'KMEVW': 2, 'MEWM-RFDSEKR': 2, 'QHZLV??K': 2, 'XZVIMNDQZ': 2, 'LDQQSZ': 2, 'LYEVVZU': 2, 'XSDQZQ': 2, '5C': 2, 'KDIKEIDS': 2, 'PED': 2, 'LCRQZUIH': 2, 'CUHAEIEZVK': 2, 'QHZL': 2, 'LFCZU': 2, 'UZLZDUIM': 2, 'ISENDKZ': 2, 'DIIHUQEVW': 2, 'DIDQZNEI': 2, 'RZDU': 2, 'LIEZVKEAEI': 2, 'CFXSELMZQ': 2, 'IHPZUDWZ': 2, 'VHPZNXZU': 2, 'ADIZXHHY,': 2, '??EK??L': 2, '??JZ??UZ': 2, 'LKHUR': 2, 'KUDQEKEHVDS': 2, 'HCZV': 2, 'XHHLK': 2, 'MZDSKM': 2, 'PZUR': 2, 'DIKEPZ': 2, 'LZOELK': 2, 'RHF??PZ': 2, 'KMZR??UZ': 2, 'QDR': 2, 'NHSZKDL': 2, 'PESSDWZ': 2, 'MZV': 1, 'IHFULZ': 1, 'MFNDV': 1, 'ZPZVKL': 1, 'QELLHSPZ': 1, 'XDVQL': 1, 'IHVVZIKZQ': 1, 'DVHKMZU': 1, 'DLLFNZ': 1, 'ZDUKM,': 1, 'LZCDUDKZ': 1, 'ZRFDS': 1, 'LKDKEHV': 1, 'VDKFUZ': 1, \"VDKFUZ'L\": 1, 'WHQ': 1, 'ZVKEKSZ': 1, 'QZIZVK': 1, 'UZLCZIK': 1, 'HCEVEHVL': 1, 'UZRFEUZL': 1, 'QZISDUZ': 1, 'IDFLZL': 1, 'ENCZS': 1, 'LZCDUDKEHV.': 1, 'KUFKML': 1, 'LZSA-ZPEQZVK,': 1, 'NZV': 1, 'IUZDKZQ': 1, 'ZRFDS,': 1, 'ZVQHJZQ': 1, 'IUZDKHU': 1, 'IZUKDEV': 1, 'FVDSEZVDXSZ': 1, 'SEAZ,': 1, 'SEXZUKR': 1, 'CFULFEK': 1, 'LZIFUZ': 1, 'EVLKEKFKZQ': 1, 'NZV,': 1, 'QZUEPEVW': 1, 'WHPZUVZQ,': 1, 'JMZVZPZU': 1, 'QZLKUFIKEPZ': 1, 'ZVQL,': 1, 'DXHSELM': 1, 'EK,': 1, 'EVLKEKFKZ': 1, 'SDREVW': 1, 'AHFVQDKEHV': 1, 'CUEVIECSZL': 1, 'HUWDVEGEVW': 1, 'AHUN,': 1, 'LMDSS': 1, 'LZZN': 1, 'ZAAZIK': 1, 'LDAZKR': 1, 'CUFQZVIZ,': 1, 'EVQZZQ,': 1, 'QEIKDKZ': 1, 'ZLKDXSELMZQ': 1, 'IMDVWZQ': 1, 'SEWMK': 1, 'KUDVLEZVK': 1, 'IDFLZL;': 1, 'DIIHUQEVWSR': 1, 'ZOCZUEZVIZ': 1, 'MDKM': 1, 'LMZJV': 1, 'QELCHLZQ': 1, 'LFAAZU,': 1, 'ZPESL': 1, 'LFAAZUDXSZ': 1, 'DIIFLKHNZQ.': 1, 'KUDEV': 1, 'DXFLZL': 1, 'CFULFEVW': 1, 'EVPDUEDXSR': 1, 'ZPEVIZL': 1, 'QZLEWV': 1, 'UZQFIZ': 1, 'FVQZU': 1, 'QZLCHKELN,': 1, 'UEWMK,': 1, 'QFKR,': 1, 'KMUHJ': 1, 'CUHPEQZ': 1, 'WFDUQL': 1, 'AFKFUZ': 1, 'LZIFUEKR.': 1, 'CDKEZVK': 1, 'LFAAZUDVIZ': 1, 'IHSHVEZL;': 1, 'VHJ': 1, 'VZIZLLEKR': 1, 'IHVLKUDEVL': 1, 'AHUNZU': 1, 'WHPZUVNZVK.': 1, 'CUZLZVK': 1, 'YEVW': 1, 'XUEKDEV': 1, 'EVBFUEZL': 1, 'QEUZIK': 1, 'ZLKDXSELMNZVK': 1, 'KRUDVVR': 1, 'CUHPZ': 1, 'KMEL,': 1, 'ADIKL': 1, 'LFXNEKKZQ': 1, 'IDVQEQ': 1, 'JHUSQ.': 1, 'SDJL,': 1, 'JMHSZLHNZ': 1, 'WHHQ.': 1, 'AHUXEQQZV': 1, 'WHPZUVHUL': 1, 'ENNZQEDKZ': 1, 'CUZLLEVW': 1, 'ENCHUKDVIZ,': 1, 'LFLCZVQZQ': 1, 'HCZUDKEHV': 1, 'KESS': 1, 'HXKDEVZQ;': 1, 'LFLCZVQZQ,': 1, 'FKKZUSR': 1, 'VZWSZIKZQ': 1, 'DKKZVQ': 1, 'DIIHNNHQDKEHV': 1, 'QELKUEIKL': 1, 'CZHCSZ,': 1, 'KMHLZ': 1, 'UZSEVRFELM': 1, 'UZCUZLZVKDKEHV': 1, 'SZWELSDKFUZ,': 1, 'EVZLKENDXSZ': 1, 'AHUNEQDXSZ': 1, 'KRUDVKL': 1, 'HVSR.': 1, 'CSDIZL': 1, 'FVFLFDS,': 1, 'FVIHNAHUKDXSZ,': 1, 'QELKDVK': 1, 'QZCHLEKHUR': 1, 'UZIHUQL,': 1, 'LHSZ': 1, 'ADKEWFEVW': 1, 'IHNCSEDVIZ': 1, 'NZDLFUZL.': 1, 'QELLHSPZQ': 1, 'UZCUZLZVKDKEPZ': 1, 'MHFLZL': 1, 'UZCZDKZQSR,': 1, 'HCCHLEVW': 1, 'NDVSR': 1, 'AEUNVZLL': 1, 'EVPDLEHVL': 1, 'UEWMKL': 1, 'QELLHSFKEHVL,': 1, 'IDFLZ': 1, 'ZSZIKZQ,': 1, 'JMZUZXR': 1, 'CHJZUL,': 1, 'EVIDCDXSZ': 1, 'DVVEMESDKEHV,': 1, 'UZKFUVZQ': 1, 'ZOZUIELZ;': 1, 'UZNDEVEVW': 1, 'NZDV': 1, 'ZOCHLZQ': 1, 'QDVWZUL': 1, 'EVPDLEHV': 1, 'JEKMHFK,': 1, 'IHVPFSLEHVL': 1, 'JEKMEV.': 1, 'CUZPZVK': 1, 'CHCFSDKEHV': 1, 'LKDKZL;': 1, 'HXLKUFIKEVW': 1, 'VDKFUDSEGDKEHV': 1, 'AHUZEWVZUL;': 1, 'ZVIHFUDWZ': 1, 'NEWUDKEHVL': 1, 'MEKMZU,': 1, 'UDELEVW': 1, 'IHVQEKEHVL': 1, 'DCCUHCUEDKEHVL': 1, 'SDVQL.': 1, 'HXLKUFIKZQ': 1, 'DQNEVELKUDKEHV': 1, 'BFQEIEDUR': 1, 'CHJZUL.': 1, 'BFQWZL': 1, 'QZCZVQZVK': 1, 'DSHVZ': 1, 'KZVFUZ': 1, 'DNHFVK': 1, 'CDRNZVK': 1, 'LDSDUEZL.': 1, 'ZUZIKZQ': 1, 'NFSKEKFQZ': 1, 'LZVK': 1, 'MEKMZU': 1, 'LJDUNL': 1, 'HAAEIZUL': 1, 'MDUDLL': 1, 'ZDK': 1, 'YZCK': 1, 'KENZL': 1, 'LKDVQEVW': 1, 'SZWELSDKFUZL.': 1, 'DAAZIKZQ': 1, 'NESEKDUR': 1, 'LFCZUEHU': 1, 'IEPES': 1, 'CHJZU.': 1, 'IHNXEVZQ': 1, 'LFXBZIK': 1, 'IHVLKEKFKEHV,': 1, 'FVDIYVHJSZQWZQ': 1, 'SDJL;': 1, 'WEPEVW': 1, 'SZWELSDKEHV:': 1, 'RFDUKZUEVW': 1, 'DUNZQ': 1, 'KUHHCL': 1, 'FL:': 1, 'CUHKZIKEVW': 1, 'NHIY': 1, 'CFVELMNZVK': 1, 'NFUQZUL': 1, 'IHNNEK': 1, 'LKDKZL:': 1, 'KUDQZ': 1, 'JHUSQ:': 1, 'ENCHLEVW': 1, 'KDOZL': 1, 'IHVLZVK:': 1, 'QZCUEPEVW': 1, 'IDLZL,': 1, 'XZVZAEK': 1, 'BFUR:': 1, 'XZRHVQ': 1, 'KUEZQ': 1, 'HAAZVIZL:': 1, 'LRLKZN': 1, 'ZVWSELM': 1, 'VZEWMXHFUEVW': 1, 'CUHPEVIZ,': 1, 'KMZUZEV': 1, 'DUXEKUDUR': 1, 'ZVSDUWEVW': 1, 'XHFVQDUEZL': 1, 'HVIZ': 1, 'ZODNCSZ': 1, 'AEK': 1, 'EVLKUFNZVK': 1, 'EVKUHQFIEVW': 1, 'KDYEVW': 1, 'IMDUKZUL,': 1, 'PDSFDXSZ': 1, 'DSKZUEVW': 1, 'AFVQDNZVKDSSR': 1, 'WHPZUVNZVKL:': 1, 'LFLCZVQEVW': 1, 'HJV': 1, 'SZWELSDKFUZL,': 1, 'EVPZLKZQ': 1, 'SZWELSDKZ': 1, 'IDLZL': 1, 'JMDKLHZPZU.': 1, 'DXQEIDKZQ': 1, 'MZUZ,': 1, 'JDWEVW': 1, 'JDU': 1, 'CSFVQZUZQ': 1, 'LZDL,': 1, 'UDPDWZQ': 1, 'IHDLKL,': 1, 'XFUVK': 1, 'KHJVL,': 1, 'QZLKUHRZQ': 1, 'SEPZL': 1, 'NZUIZVDUEZL': 1, 'IHNCSZDK': 1, 'JHUYL': 1, 'QZDKM,': 1, 'QZLHSDKEHV,': 1, 'KRUDVVR,': 1, 'DSUZDQR': 1, 'XZWFV': 1, 'IUFZSKR': 1, '&': 1, 'CZUAEQR': 1, 'LIDUIZSR': 1, 'CDUDSSZSZQ': 1, 'XDUXDUHFL': 1, 'FVJHUKMR': 1, 'MZDQ': 1, 'IEPESEGZQ': 1, 'VDKEHV.': 1, 'IHVLKUDEVZQ': 1, 'AZSSHJ': 1, 'IEKEGZVL': 1, 'KDYZV': 1, 'IDCKEPZ': 1, 'XZDU': 1, 'DUNL': 1, 'IHFVKUR,': 1, 'XZIHNZ': 1, 'ZOZIFKEHVZUL': 1, 'AUEZVQL': 1, 'XUZKMUZV,': 1, 'ADSS': 1, 'MDVQL.': 1, 'ZOIEKZQ': 1, 'QHNZLKEI': 1, 'EVLFUUZIKEHVL': 1, 'DNHVWLK': 1, 'XUEVW': 1, 'AUHVKEZUL,': 1, 'NZUIESZLL': 1, 'EVQEDV': 1, 'LDPDWZL': 1, 'JDUADUZ,': 1, 'FVQELKEVWFELMZQ': 1, 'QZLKUFIKEHV': 1, 'LZOZL': 1, 'IHVQEKEHVL.': 1, 'LKDWZ': 1, 'HCCUZLLEHVL': 1, 'CZKEKEHVZQ': 1, 'UZQUZLL': 1, 'MFNXSZ': 1, 'KZUNL:': 1, 'CZKEKEHVL': 1, 'DVLJZUZQ': 1, 'EVBFUR.': 1, 'CUEVIZ,': 1, 'IMDUDIKZU': 1, 'KMFL': 1, 'NDUYZQ': 1, 'DIK': 1, 'QZAEVZ': 1, 'KRUDVK,': 1, 'FVAEK': 1, 'UFSZU': 1, 'VHU': 1, 'JDVKEVW': 1, 'DKKZVKEHVL': 1, 'XUZKMUZV.': 1, 'JDUVZQ': 1, 'DKKZNCKL': 1, 'SZW': 1, 'ELSDKFUZ': 1, 'ZOKZVQ': 1, 'FVJDUUDVKDXSZ': 1, 'UZNEVQZQ': 1, 'ZNEWUDKEHV': 1, 'LZKKSZNZVK': 1, 'MZUZ.': 1, 'DCCZDSZQ': 1, 'VDKEPZ': 1, 'NDWVDVENEKR,': 1, 'IHVBFUZQ': 1, 'KEZL': 1, 'IHNNHV': 1, 'YEVQUZQ': 1, 'QELDPHJ': 1, 'EVZPEKDXSR': 1, 'EVKZUUFCK': 1, 'IHVVZIKEHVL': 1, 'IHUUZLCHVQZVIZ.': 1, 'KHH': 1, 'QZDA': 1, 'PHEIZ': 1, 'IHVLDVWFEVEKR.': 1, 'NFLK,': 1, 'DIRFEZLIZ': 1, 'VZIZLLEKR,': 1, 'QZVHFVIZL': 1, 'LZCDUDKEHV,': 1, 'NDVYEVQ,': 1, 'ZVZNEZL': 1, 'CZDIZ': 1, 'AUEZVQL.': 1, 'JZ,': 1, 'UZCUZLZVKDKEPZL': 1, 'DNZUEID,': 1, 'WZVZUDS': 1, 'IHVWUZLL,': 1, 'DLLZNXSZQ,': 1, 'DCCZDSEVW': 1, 'LFCUZNZ': 1, 'BFQWZ': 1, 'UZIKEKFQZ': 1, 'EVKZVKEHVL,': 1, 'QH,': 1, 'VDNZ,': 1, 'DFKMHUEKR': 1, 'IHSHVEZL,': 1, 'LHSZNVSR': 1, 'CFXSELM': 1, 'QZISDUZ,': 1, 'DUZ,': 1, 'DXLHSPZQ': 1, 'DSSZWEDVIZ': 1, 'IUHJV,': 1, 'IHVVZIKEHV': 1, 'XUEKDEV,': 1, 'QELLHSPZQ;': 1, 'AFSS': 1, 'SZPR': 1, 'IHVISFQZ': 1, 'IHVKUDIK': 1, 'DSSEDVIZL,': 1, 'ZLKDXSELM': 1, 'IHNNZUIZ,': 1, 'QH': 1, 'KMEVWL': 1, 'LFCCHUK': 1, 'QZISDUDKEHV,': 1, 'UZSEDVIZ': 1, 'QEPEVZ': 1, 'CUHPEQZVIZ,': 1, 'NFKFDSSR': 1, 'CSZQWZ': 1, 'SEPZL,': 1, 'AHUKFVZL,': 1, 'LDIUZQ': 1, 'MHVHU.': 1, 'LHNZKENZL': 1, 'PDLKSR': 1, 'KRCZL': 1, 'IHVLKDVK': 1, 'MDFS:': 1, 'SZDPZ': 1, 'QZLEUZQ': 1, 'UZLFSK,': 1, 'XZSEZPZUL': 1, 'JHUKM': 1, 'NZKKSZ': 1, 'LFUZ': 1, 'IMHEIZ': 1, 'VDUUHJZQ': 1, 'QHJV': 1, 'ADU,': 1, 'HCKEHVL': 1, 'CFUIMDLZ': 1, 'IMZDC': 1, 'IHVLKUFIKEHV.': 1, 'ZVLFUZ': 1, 'WZKKEVW': 1, 'XDVW-AHU-RHFU-XFIY': 1, '(VH': 1, 'CFV': 1, 'EVKZVQZQ),': 1, 'CFK': 1, 'AHSSHJEVW': 1, '12': 1, 'ZOKUD': 1, 'KUEIYL': 1, 'LSZZPZ,': 1, 'JMDKZPZU': 1, '??KMZ': 1, 'IMDLZ.??': 1, 'PL.': 1, 'CUENZU': 1, 'QEZ-MDUQ': 1, 'HFKQHHU-AHIFLZQ': 1, 'KHHS,': 1, 'JHVQZUEVW': 1, 'JMR': 1, 'CFKKEVW': 1, 'SELK.': 1, 'AHSQZUL': 1, 'NDUYZK': 1, 'KUDES': 1, 'IHNCDVEHVL.': 1, 'JZSS,': 1, 'LENCSZ:': 1, 'CDUKL.': 1, 'IMDVIZ': 1, 'ADES': 1, 'XUZDYEVW': 1, 'CEPHK': 1, 'XZIHNEVW': 1, 'BDNNZQ': 1, 'NFQ,': 1, 'QEUK,': 1, 'LDVQ,': 1, 'XSHHQ': 1, 'WFKL.': 1, 'LKUEC': 1, 'XDLEI': 1, 'XZSEZPZ': 1, 'LENCSR': 1, 'PEUKFZ': 1, 'AFLL-AUZZ': 1, 'LENCSEIEKR': 1, 'NDEVKZVDVIZ': 1, 'AHSQZUL,': 1, 'NFLK': 1, 'NHUDYVEP': 1, 'KHHS??L': 1, 'SDFWMDXSR': 1, 'CUEIZ': 1, 'CZUEHQ.': 1, 'MHVZLKSR,': 1, 'VHKMEVW': 1, 'AEVQ': 1, 'IHNAHUKDXSZ': 1, 'QZCZVQDXSZ': 1, 'XHDUQ': 1, 'JDKZUAHJS,': 1, 'AELMEVW.': 1, 'UZCSDIZDXESEKR,': 1, 'SENEKZQ': 1, 'JDUUDVKR': 1, 'NDVFADIKFUEVW': 1, 'QZAZIKL.': 1, 'JDR,': 1, 'ADESL': 1, 'ADFSK': 1, 'HJV,': 1, 'UZCSDIZ': 1, '1896WM': 1, 'UZCFKDKEHV': 1, 'ZVKUR-SZPZS': 1, 'DIIZLLEXSZ': 1, 'KHQDR.': 1, 'ZDLR-KH-LMDUCZV': 1, 'LFUCUELEVWSR': 1, 'WSDLL-AESSZQ': 1, 'CDUKEIFSDU': 1, 'LKDVQDUQ': 1, 'LMDCZ,': 1, 'XZVZAEKL': 1, 'AEZSQ-QUZLLEVW': 1, 'AELM,': 1, 'AHJS,': 1, 'DVRKMEVW': 1, 'ZSLZ': 1, 'VZZQL': 1, 'ZVKUDESL': 1, 'UZNHPZQ': 1, 'CUEHU': 1, 'IHHYEVW.': 1, 'IDUUREVW': 1, 'KENZL.': 1, 'CUZPDESEVW': 1, 'XZSEZA': 1, 'VZZQ': 1, 'HPZUXFESK': 1, 'ZOIZLL.': 1, 'KZVQ': 1, 'LZVKENZVK,': 1, 'ZPEQZVIZQ': 1, 'SDUUR': 1, 'AELIMZU-QZLEWVZQ': 1, '7.25': 1, 'CSZVKR': 1, 'KDLYL.': 1, 'XHSLKZUZQ': 1, 'NFSKE-SDRZUZQ': 1, 'W10': 1, 'NFSKECSZ': 1, 'AUEIKEHV': 1, 'WUHHPZL': 1, 'LCEVZ': 1, 'IHVKUHS': 1, 'QFUEVW': 1, 'CDUDIHUQ': 1, 'SDVRDUQ,': 1, 'HV-KMZ-LCHK': 1, 'QHFXSZL': 1, 'KHHS.': 1, 'IDNCDVEHV': 1, 'AHSYL': 1, 'NES-LCZI': 1, 'ADU': 1, 'NDYZL.': 1, 'DVQ,': 1, 'FLNI': 1, 'LFEKZQ': 1, 'KDLY.': 1, 'ZKMDV': 1, 'XZIYZU,': 1, 'KHC-KEZU': 1, 'QZLEWVZU': 1, 'NDYZU,': 1, 'XZZAR': 1, 'NEVQ.': 1, 'IUH-PDV': 1, 'LMDUCZV,': 1, 'FSKUD-QFUDXSZ': 1, 'WUEPHUR': 1, 'MESK,': 1, 'MDUQ': 1, 'LMZSS': 1, 'XSDIY': 1, 'UZDSSR,': 1, 'JMDK': 1, 'DLY': 1, 'AHU?': 1, 'HYI': 1, 'UDK-5': 1, 'AHSYL,': 1, 'IHNNFVEKR,': 1, 'NHVFNZVKL': 1, 'HVKDUEH': 1, 'IHNCDVR??L': 1, 'ADXSZQ': 1, 'XFK,': 1, 'QEQ': 1, 'AHSQZU': 1, 'QZLEWVDKEHV?': 1, 'MFVKEVW,': 1, 'UDK-5.': 1, 'CUZLFNDXSR': 1, '5-EVIM,': 1, '11.5-HFVIZ': 1, 'KHFWM': 1, 'KEC,': 1, 'VH-VHVLZVLZ': 1, 'QZLEWV,': 1, 'HFKQHHULNZV': 1, 'AFVIKEHV': 1, 'WH': 1, 'MDVQ-EV-MDVQ.': 1, 'HAAZUL': 1, 'EVIUZQEXSZ': 1, 'PDSFZ.': 1, 'MZSSZ': 1, 'WUHFC': 1, 'KUFLK': 1, 'LIDVQEVDPEDVL': 1, 'WZVZUDKEHVL': 1, 'QZLIZVQDVKL': 1, 'PEYEVWL': 1, 'CUZAZU': 1, 'MFSYEVW': 1, 'XDKKSZ': 1, 'DOZL,': 1, 'RHF??SS': 1, 'AUZRFZVKSR': 1, 'DUWFNZVKL': 1, 'LNDSSZU,': 1, 'CFUCHLZ-QUEPZV': 1, 'MZSSZ??L': 1, 'DUWFNZVK.': 1, 'AZDKFUEVW': 1, 'LKFVVEVWSR': 1, 'IFUSR': 1, 'XEUIM': 1, 'DQQEKEHV': 1, 'WZDU': 1, 'SHDQHFK.': 1, 'LENCSZ,': 1, 'MDVQLHNZ': 1, 'EQZDS': 1, 'XHKM': 1, 'IDUUR.': 1, 'WZUXZU': 1, 'LFUZ,': 1, 'SHPZ': 1, 'WZUXZU??L': 1, 'ZOCDVLEPZ': 1, 'IDKDSHW.': 1, 'XFQWZK': 1, 'IDKZWHUR.': 1, 'QZAEVEKZ': 1, 'IHVKZVQZU': 1, 'ZPZU': 1, 'XFESQ,': 1, 'LKDVQCHEVKL.': 1, 'RHF;': 1, 'LYEV,': 1, 'KMHFWM': 1, 'UDKMZU,': 1, 'LYEV-EVLCEUZQ': 1, 'KZOKFUZ': 1, 'LHNZ,': 1, 'QHJVLEQZ,': 1, 'IHVLEQZU': 1, 'SHVWZPEKR': 1, 'NDYZL': 1, 'IHVLELKZVK': 1, 'WUEC': 1, 'SDLK': 1, 'SHVWZU': 1, 'SZDKMZU,': 1, 'UZCKESZ.': 1, 'DNZUEIDV-NDQZ': 1, 'KUDQEKEHVDSSR': 1, 'LCZDYEVW,': 1, 'MDXEK': 1, 'DVENDSL': 1, 'YESS': 1, 'EVISFQEVW': 1, 'XHVZL.': 1, 'IDLZ??L': 1, 'NHQZUV': 1, 'KMUHJXDIY': 1, 'DKKEKFQZ': 1, 'AEKKEVW': 1, 'KUEXFKZ': 1, 'IHNEVW': 1, 'DNZUEIDV': 1, 'IZVKFUR': 1, 'LKFVVEVW': 1, 'WZKL': 1, 'CHEVKL': 1, 'LDXZU-LKRSZ': 1, 'KUF-LMDUC': 1, 'LFUWEIDS': 1, 'WHZL': 1, 'IHFULZ,': 1, 'SZWZVQDUR': 1, 'JHUUR': 1, 'SZKKEVW': 1, 'QHJV.': 1, 'LCZIEDS': 1, 'UZCZUKHEUZ': 1, 'DXLHSFKZSR': 1, 'UEWMK.': 1, 'AZJ.': 1, 'ADPHUEKZ,': 1, 'LCZIEDS.': 1, 'EVIUZQEXSR': 1, 'IHIHXHSH': 1, 'XUDLL': 1, 'XHJEZ-LKRSZ': 1, '420MI': 1, 'XDSDVIZ': 1, 'LKHC': 1, 'KMZUZ;': 1, 'XDSDVIZQ': 1, 'FSKENDKZ': 1, 'IFK': 1, 'IHVKUHS,': 1, 'LVDC-ADLKZVEVW': 1, 'CUHFQSR': 1, 'FLD,': 1, 'JDUUDVKR.': 1, 'KUFSR,': 1, 'EIHVEI': 1, 'MZEUSHHN': 1, 'IHVLELKZVKSR': 1, 'CUHPZV': 1, 'DWDEV': 1, 'KHHSL,': 1, 'ZOIZS': 1, 'XFESQ.': 1, 'MHNZ': 1, 'HUZWHV,': 1, 'EKLZSA.': 1, 'ZPEQZVK': 1, 'UDQEFL': 1, 'UDKMZU': 1, 'XSDQZ??L': 1, 'LCEVZ.': 1, 'LKDXESEGZQ': 1, 'VHUNDS': 1, 'JMHSZ': 1, 'LKFUQEZU': 1, 'JZSS-ZRFECCZQ': 1, 'LKUZVFHFL': 1, 'KDLYL,': 1, 'LEGZL': 1, 'LMDCZL.': 1, 'AHUWZK': 1, 'XZVIMNDQZ??L': 1, 'SEAZLMDUC': 1, 'LZUPEIZ,': 1, 'ZLZZ': 1, 'ZOKUZNZ': 1, 'FLDWZ,': 1, 'XUDVQL': 1, 'NDLKZUAFS': 1, 'ZLZZ.': 1, 'HAAZUEVWL': 1, 'JMR.': 1, 'SEWMKJZEWMK': 1, 'UFWWZQ,': 1, '5-EVIM': 1, 'KZOKFUZQ': 1, 'ZDLESR': 1, 'DKKDIMZQ': 1, 'YRQZO': 1, 'CSFL,': 1, 'UFWWZQ': 1, 'MFVKZUL,': 1, 'ZNZUWZVIR': 1, 'JZSS.': 1, 'JMDK??L': 1, 'XZKKZU,': 1, 'KMHFWM,': 1, 'IHSHUJDRL': 1, '?': 1, 'LHUK': 1, 'KMEVW.': 1, 'FVERFZSR-LMDCZQ': 1, 'IHNCUZMZVLEPZ': 1, 'IHSSZIKEHV': 1, 'IHNZ': 1, 'RZDUL.': 1, 'CZUMDCL': 1, 'ZLCZIEDSSR': 1, 'AEXZU.': 1, 'ADPHUEKZ': 1, 'IUDAKZQ': 1, 'L90P': 1, '4': 1, 'VZDUSR': 1, 'SDUWZLK': 1, 'SELK,': 1, 'DAAHUQ': 1, 'DUZV??K': 1, 'HVZ.': 1, '2015': 1, 'LIEZVIZ': 1, 'LZK': 1, 'EVKZUVZK': 1, 'DXFGG': 1, 'DVKEXEHKEI,': 1, 'CSDLKEIL': 1, 'CHSSFKEHV': 1, 'HIZDV,': 1, 'IMDVWZ,': 1, 'LCZIEZL': 1, 'ZOKEVIKEHV,': 1, 'DSKNZKUEI,': 1, 'LKDUK-FC': 1, 'DVDSRGZL': 1, 'HVSEVZ': 1, 'DIKEPEKR': 1, 'LFUUHFVQEVW': 1, 'CDCZUL.': 1, 'UZLKL:': 1, 'KMHFLDVQL': 1, 'QHGZVL': 1, 'BHFUVDSL': 1, 'QELIECSEVZL.': 1, 'IDCKFUZ': 1, 'NZQED??L': 1, 'VFNZUHFL': 1, 'LKHUEZL;': 1, 'DFQEZVIZ': 1, 'KDYZ': 1, 'CDLLEHVDKZ': 1, 'QELIFLLEHVL.': 1, 'LZIHVQ': 1, 'DSKNZKUEI': 1, 'IHNCESZQ': 1, 'RZDU.': 1, 'LKFQEZQ': 1, 'WDUVZUZQ': 1, '2014': 1, 'FVKES': 1, '16,': 1, '2015,': 1, 'ZODNEVEVW': 1, 'ADUZQ': 1, 'HFKSZKL': 1, 'KJEKKZU,': 1, 'IMEVZLZ': 1, 'NEIUHXSHWWEVW': 1, 'LEKZ': 1, 'LEVD': 1, 'JZEXH.': 1, 'SHHYZQ': 1, 'UZAZUZVIZQ': 1, 'JEYECZQED': 1, 'CHSEIR': 1, 'HFKSEVEVW': 1, 'CSDVL': 1, 'DIKEHVL': 1, 'DVDSRLKL': 1, 'KDVYL.': 1, 'ISZDU,': 1, 'KUEZL': 1, 'ENCHUKDVK': 1, '2015.': 1, 'VZIZLLDUESR,': 1, 'DSJDRL': 1, 'ENCDIK,??': 1, 'LDRL': 1, 'LKDIR': 1, 'YHVYEZS,': 1, 'HFKUZDIM': 1, 'NDVDWZU': 1, 'DSKNZKUEI.': 1, 'DKKZVKEHV.??': 1, 'ZOCSDEVL': 1, 'KJZVKEZKM': 1, 'DIMEZPZQ': 1, 'UDVY.': 1, 'LFUADIZ,': 1, 'CDSZHVKHSHWR': 1, 'CDCZU.': 1, 'JDLV??K': 1, 'MHUVZQ': 1, 'QEVHLDFU': 1, 'EVKZUZLKZQ': 1, 'CFXSEI:': 1, 'NDUUEDWZ': 1, 'CUHCHLDS': 1, 'KFIYZQ': 1, 'CDCZU??L': 1, 'AHHKVHKZL.': 1, 'RZDU??L': 1, '34': 1, 'BHFUVDSL??XHKM': 1, 'DIIZLL,': 1, 'SDKKZU': 1, 'LKZDQESR': 1, 'WDEVEVW': 1, 'WUHFVQ': 1, 'KZVQL': 1, 'NZQED.': 1, 'AHUKR-KJH': 1, 'IDNZ': 1, 'BHFUVDS.': 1, 'MDSA': 1, 'MHKKZLK': 1, 'MZDSKM-UZSDKZQ,': 1, 'ZVPEUHVNZVK-UZSDKZQ': 1, 'KUZVQEVW': 1, 'XZMEVQ.': 1, 'WHKKZV': 1, 'IMDVWZ': 1, 'QFZ': 1, 'IHC21': 1, 'KDSYL': 1, 'CDUEL.': 1, 'CDUKEIFSDUSR': 1, 'LFIIZLLAFS': 1, 'IHPZUDWZ,': 1, 'ZVPEUHVNZVK': 1, 'KRCEIDSSR': 1, 'MHK': 1, 'KHCEIL,': 1, 'LFUCUELZL': 1, 'KHH:': 1, 'WDEVZQ': 1, 'KUDIKEHV': 1, '(KMZ': 1, 'ZEWMKM': 1, 'DUKEISZ)': 1, 'QZLCEKZ': 1, 'XZSHVW': 1, 'ZEKMZU': 1, 'IDKZWHUEZL': 1, 'KJH': 1, 'LKFQR,': 1, 'ZAAZIKEPZVZLL': 1, 'QHIFNZVK': 1, 'CUZCDUDKEHV': 1, '(JHUQ': 1, 'CUHIZLLHUL,': 1, 'NEIUHLHAK': 1, 'JHUQ': 1, 'LIEZVIZ-XZSHPZQ': 1, 'SDKZO,)': 1, 'UZLZDUIMZUL': 1, 'IUZDKZ': 1, 'NDVFLIUECKL': 1, 'LDJ': 1, '1,000': 1, 'KJZZKL': 1, 'KZV': 1, 'DUKEISZL.': 1, '??KMDK': 1, 'LFUCUELEVW': 1, 'NZ,': 1, 'CZULHVDSSR,': 1, 'XZIDFLZ': 1, 'DFQEZVIZ,??': 1, '??EK': 1, 'HXPEHFLSR': 1, 'IDCKFUZQ': 1, 'EVKZUZLK': 1, 'LIEZVKELKL': 1, 'NZQED.??': 1, 'NHLK-KJZZKZQ': 1, 'DUKEISZ,': 1, 'CLRIMHSHWR': 1, 'EVPZLKEWDKEVW': 1, 'PEQZH': 1, 'WDNZL': 1, 'ENCDUKZQ': 1, 'DKKEKFQZL': 1, 'NEVQLZKL': 1, 'HVKH': 1, 'CSDRZQ': 1, 'HFKSEZU.': 1, 'LMDUZQ': 1, 'MDVQ,': 1, 'MHNH': 1, 'ZUZIKFL': 1, 'LMZSSL': 1, 'VZEKMZU,': 1, 'ISZDUSR,': 1, 'EVPHSPZQ': 1, 'ZVPEUHVNZVK.': 1, 'LZZEVW': 1, 'DNCSEAR': 1, 'NDEVLKUZDN': 1, 'JHFSQV??K': 1, 'CEIY': 1, 'FC,??': 1, '??DL': 1, 'IHNNFVEKR': 1, 'NZQED,': 1, 'LKHUEZL': 1, 'HKMZUJELZ': 1, 'NZDLFUZQ': 1, 'LIHUZ.??': 1, 'IEKDKEHVL': 1, 'ENCDIK': 1, 'ADIKHU': 1, 'BHFUVDS': 1, 'EV,': 1, 'JMH??L': 1, 'LMDUEVW': 1, 'JEKM,': 1, 'EVIHUCHUDKEVW': 1, 'SEPZL,??': 1, 'MFNDVL': 1, 'KUEZL,': 1, 'VZZQZQ': 1, 'JDRL': 1, 'LMDUCZV': 1, 'QHVZ': 1, 'FVEPZULEKR': 1, 'IHSHUDQH': 1, 'XHFSQZU,': 1, 'CUZMELKHUEI': 1, 'QZPZSHCZQ': 1, 'NZKMHQ': 1, 'LKHVZ': 1, '75,000': 1, 'RZDUL': 1, 'DWH.': 1, 'JZLKZUV': 1, 'YVEAZ-LMDUCZVEVW,': 1, 'QEUZIKSR': 1, 'KUDIZQ': 1, 'XDIY': 1, '??NHSZKDL??': 1, 'VHUKMZUV': 1, 'EKDSR.': 1, 'YVEAZ-WUEVQZUL': 1, 'KUDPZSZQ': 1, 'HAAZUEVW': 1, 'LZUPEIZL.': 1, 'HUEWEVDKZQ': 1, 'PDSSZR': 1, 'PDS': 1, 'UZVQZVD': 1, 'EKDSR`L': 1, 'QHSHNEKZ': 1, 'DSCL,': 1, 'AEULK': 1, 'SDVQZQ': 1, '1886.': 1, 'JEKMEV': 1, '3': 1, 'QZIDQZL': 1, 'MFVQUZQL': 1, 'BHEVZQ': 1, 'MEN.': 1, 'FVAHUKFVDKZSR,': 1, 'AHFWMK': 1, 'YVEAZ-WUEVQEVW': 1, 'KZUUEKHUEZL': 1, 'EKDSR,': 1, '1930': 1, 'WUEVQZUL': 1, 'DLLHIEDKEHV': 1, 'AHFVQZQ': 1, 'HUQZU': 1, 'LZKKSZ': 1, 'QELCFKZL.': 1, 'DSNHLK': 1, 'XEW': 1, 'IEKR': 1, 'NHSZKD.': 1, 'KUDQEKEHVDSSR,': 1, 'NHSZKD': 1, 'JHUZ': 1, 'ASHCCR': 1, 'MDK': 1, 'AHFVQ': 1, 'LKUZZK': 1, 'IHUVZU,': 1, 'CZQDS-HCZUDKZQ': 1, 'WUEVQEVW': 1, 'JMZZS': 1, 'NHFVKZQ': 1, 'JMZZSXDUUHJ.': 1}\n"
     ]
    }
   ],
   "source": [
    "import io\n",
    "\n",
    "#If no input let's default to the exercise document \n",
    "if len(fname) < 1 : fname = 'exercisedocument.txt'\n",
    "\n",
    "file = open(fname)\n",
    "\n",
    "excludeBoolean = False\n",
    "extractBoolean = False\n",
    "dictionary = dict()\n",
    "#Determine if stop words need to be considered. If Yes then exclude but by default we will incorporate stem words \n",
    "if(excludeStopWords.lower() == 'n' or excludeStopWords.lower() == 'no'):\n",
    "    excludeBoolean = True\n",
    "else:\n",
    "    excludeBoolean = False\n",
    "    \n",
    "#Determine if stem words need to be considered \n",
    "if(extractStemWords.lower() == 'y' or extractStemWords.lower() == 'yes'):\n",
    "    extractBoolean = True\n",
    "else:\n",
    "    extractBoolean = False\n",
    "\n",
    "\n",
    "#Read the file and encode it to utf-8 since step one says to ignore non-letter characters in the text file.\n",
    "#Using an import called io to help with input output and using with open we do not have to worry about closing the file\n",
    "#since it will be taken care of after the reading is done\n",
    "with io.open(fname, 'r',encoding='utf-8', errors='ignore') as inputFile:\n",
    "    for line in inputFile:\n",
    "#         print(line)\n",
    "        words = line.split()\n",
    "#         print(words)\n",
    "        for word in words:\n",
    "            #print(word)\n",
    "            if(word in dictionary):\n",
    "                dictionary[word] = dictionary[word] + 1\n",
    "            else:\n",
    "                dictionary[word] = 1\n",
    "\n",
    "#print(dictionary)\n",
    "sortedByVal = {k:v for k,v in sorted(dictionary.items(), key= lambda v:v[1], reverse = True)}\n",
    "#print(sortedByVal)\n",
    "topCount = 25\n",
    "counter = 0\n",
    "with io.open(fname + '_top25', mode='w') as f:\n",
    "    for k,v in sortedByVal.items():\n",
    "        if counter < topCount:\n",
    "            text = 'Word:' + k + ' ' + 'Count: ' + str(v) + '\\n'\n",
    "            f.write(text)\n",
    "            counter = counter + 1\n",
    "        else:\n",
    "            break\n",
    "\n",
    "print(sortedByVal)\n",
    "#print(dictionary)\n",
    "#for key,value in dictionary: \n",
    "        \n",
    "\n",
    "        "
   ]
  },
  {
   "cell_type": "code",
   "execution_count": null,
   "id": "e9ed899f",
   "metadata": {},
   "outputs": [],
   "source": []
  }
 ],
 "metadata": {
  "kernelspec": {
   "display_name": "Python 3 (ipykernel)",
   "language": "python",
   "name": "python3"
  },
  "language_info": {
   "codemirror_mode": {
    "name": "ipython",
    "version": 3
   },
   "file_extension": ".py",
   "mimetype": "text/x-python",
   "name": "python",
   "nbconvert_exporter": "python",
   "pygments_lexer": "ipython3",
   "version": "3.9.7"
  }
 },
 "nbformat": 4,
 "nbformat_minor": 5
}
